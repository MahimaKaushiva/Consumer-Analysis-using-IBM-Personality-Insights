{
 "cells": [
  {
   "cell_type": "code",
   "execution_count": 1,
   "metadata": {},
   "outputs": [],
   "source": [
    "import pandas as pd\n",
    "import numpy as np"
   ]
  },
  {
   "cell_type": "code",
   "execution_count": 9,
   "metadata": {},
   "outputs": [
    {
     "name": "stdout",
     "output_type": "stream",
     "text": [
      "Requirement already up-to-date: ibm-watson>=4.3.0 in /Users/mahimakaushiva/opt/anaconda3/lib/python3.7/site-packages (4.3.0)\n",
      "Requirement already satisfied, skipping upgrade: python-dateutil>=2.5.3 in /Users/mahimakaushiva/opt/anaconda3/lib/python3.7/site-packages (from ibm-watson>=4.3.0) (2.8.0)\n",
      "Requirement already satisfied, skipping upgrade: ibm-cloud-sdk-core==1.5.1 in /Users/mahimakaushiva/opt/anaconda3/lib/python3.7/site-packages (from ibm-watson>=4.3.0) (1.5.1)\n",
      "Requirement already satisfied, skipping upgrade: requests<3.0,>=2.0 in /Users/mahimakaushiva/opt/anaconda3/lib/python3.7/site-packages (from ibm-watson>=4.3.0) (2.22.0)\n",
      "Requirement already satisfied, skipping upgrade: websocket-client==0.48.0 in /Users/mahimakaushiva/opt/anaconda3/lib/python3.7/site-packages (from ibm-watson>=4.3.0) (0.48.0)\n",
      "Requirement already satisfied, skipping upgrade: six>=1.5 in /Users/mahimakaushiva/opt/anaconda3/lib/python3.7/site-packages (from python-dateutil>=2.5.3->ibm-watson>=4.3.0) (1.12.0)\n",
      "Requirement already satisfied, skipping upgrade: PyJWT>=1.7.1 in /Users/mahimakaushiva/opt/anaconda3/lib/python3.7/site-packages (from ibm-cloud-sdk-core==1.5.1->ibm-watson>=4.3.0) (1.7.1)\n",
      "Requirement already satisfied, skipping upgrade: urllib3!=1.25.0,!=1.25.1,<1.26,>=1.21.1 in /Users/mahimakaushiva/opt/anaconda3/lib/python3.7/site-packages (from requests<3.0,>=2.0->ibm-watson>=4.3.0) (1.24.2)\n",
      "Requirement already satisfied, skipping upgrade: chardet<3.1.0,>=3.0.2 in /Users/mahimakaushiva/opt/anaconda3/lib/python3.7/site-packages (from requests<3.0,>=2.0->ibm-watson>=4.3.0) (3.0.4)\n",
      "Requirement already satisfied, skipping upgrade: idna<2.9,>=2.5 in /Users/mahimakaushiva/opt/anaconda3/lib/python3.7/site-packages (from requests<3.0,>=2.0->ibm-watson>=4.3.0) (2.8)\n",
      "Requirement already satisfied, skipping upgrade: certifi>=2017.4.17 in /Users/mahimakaushiva/opt/anaconda3/lib/python3.7/site-packages (from requests<3.0,>=2.0->ibm-watson>=4.3.0) (2019.9.11)\n"
     ]
    }
   ],
   "source": [
    "!pip install --upgrade \"ibm-watson>=4.3.0\""
   ]
  },
  {
   "cell_type": "code",
   "execution_count": 8,
   "metadata": {},
   "outputs": [],
   "source": [
    "from ibm_watson import PersonalityInsightsV3\n",
    "from ibm_cloud_sdk_core.authenticators import IAMAuthenticator"
   ]
  },
  {
   "cell_type": "code",
   "execution_count": null,
   "metadata": {},
   "outputs": [],
   "source": []
  }
 ],
 "metadata": {
  "kernelspec": {
   "display_name": "Python 3",
   "language": "python",
   "name": "python3"
  },
  "language_info": {
   "codemirror_mode": {
    "name": "ipython",
    "version": 3
   },
   "file_extension": ".py",
   "mimetype": "text/x-python",
   "name": "python",
   "nbconvert_exporter": "python",
   "pygments_lexer": "ipython3",
   "version": "3.7.4"
  },
  "toc": {
   "base_numbering": 1,
   "nav_menu": {},
   "number_sections": true,
   "sideBar": true,
   "skip_h1_title": false,
   "title_cell": "Table of Contents",
   "title_sidebar": "Contents",
   "toc_cell": false,
   "toc_position": {},
   "toc_section_display": true,
   "toc_window_display": false
  }
 },
 "nbformat": 4,
 "nbformat_minor": 2
}
